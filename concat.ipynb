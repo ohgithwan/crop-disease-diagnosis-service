{
 "cells": [
  {
   "cell_type": "code",
   "execution_count": 1,
   "id": "866a3f03",
   "metadata": {},
   "outputs": [],
   "source": [
    "import pandas as pd"
   ]
  },
  {
   "cell_type": "code",
   "execution_count": 8,
   "id": "d4cd1391",
   "metadata": {},
   "outputs": [],
   "source": [
    "df = pd.read_csv(r'C:\\Users\\82108\\Desktop\\pa_normal.csv', encoding='cp949') #고추질병 원천\n",
    "df2 = pd.read_csv(r'C:\\Users\\82108\\Desktop\\pa_disease.csv', encoding='cp949')#고추탄저병 증강\n",
    "df3 = pd.read_csv(r'C:\\Users\\82108\\Desktop\\pa_disease1.csv', encoding='cp949')"
   ]
  },
  {
   "cell_type": "code",
   "execution_count": 9,
   "id": "4b3a1111",
   "metadata": {},
   "outputs": [],
   "source": [
    "data = pd.concat([df, df2, df3, df4], axis=0)"
   ]
  },
  {
   "cell_type": "code",
   "execution_count": 10,
   "id": "728baf92",
   "metadata": {},
   "outputs": [],
   "source": [
    "data.to_csv('C:/Users/82108/Desktop/pa_all.csv', index=False , encoding='ANSI')"
   ]
  },
  {
   "cell_type": "code",
   "execution_count": 11,
   "id": "047a5259",
   "metadata": {},
   "outputs": [],
   "source": [
    "df5 = pd.read_csv(r'C:\\Users\\82108\\Desktop\\pa_all.csv', encoding='ANSI')"
   ]
  },
  {
   "cell_type": "code",
   "execution_count": 12,
   "id": "9b97b80e",
   "metadata": {},
   "outputs": [
    {
     "data": {
      "text/plain": [
       "82605"
      ]
     },
     "execution_count": 12,
     "metadata": {},
     "output_type": "execute_result"
    }
   ],
   "source": [
    "len(df5)"
   ]
  },
  {
   "cell_type": "markdown",
   "id": "977fd604",
   "metadata": {},
   "source": [
    "# 증강 x 데이터 1888개\n",
    "# 증강 o 데이터(탄저병) 47450(pepper_disease1)+1200(pepper_disease2) = 48650개\n",
    "# 증강 o 데이터(흰가루병) 42590개"
   ]
  },
  {
   "cell_type": "code",
   "execution_count": null,
   "id": "55463b73",
   "metadata": {},
   "outputs": [],
   "source": []
  }
 ],
 "metadata": {
  "kernelspec": {
   "display_name": "Python 3 (ipykernel)",
   "language": "python",
   "name": "python3"
  },
  "language_info": {
   "codemirror_mode": {
    "name": "ipython",
    "version": 3
   },
   "file_extension": ".py",
   "mimetype": "text/x-python",
   "name": "python",
   "nbconvert_exporter": "python",
   "pygments_lexer": "ipython3",
   "version": "3.9.12"
  }
 },
 "nbformat": 4,
 "nbformat_minor": 5
}
